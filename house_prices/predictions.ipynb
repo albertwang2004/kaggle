{
 "cells": [
  {
   "cell_type": "code",
   "execution_count": 106,
   "id": "47116484-97c4-4680-b976-1efb02397424",
   "metadata": {},
   "outputs": [],
   "source": [
    "import numpy as np\n",
    "import pandas as pd\n",
    "import os\n",
    "import matplotlib.pyplot as plt\n",
    "import plotly.express as px\n",
    "from sklearn.linear_model import LinearRegression\n",
    "from sklearn.ensemble import RandomForestRegressor\n",
    "import scipy.stats as stats"
   ]
  },
  {
   "cell_type": "code",
   "execution_count": 107,
   "id": "ab469f0c-cf08-472b-834a-804fa0c03220",
   "metadata": {},
   "outputs": [],
   "source": [
    "train_data = pd.read_csv('./kaggle_input/train.csv')\n",
    "test_x = pd.read_csv('./kaggle_input/test.csv')"
   ]
  },
  {
   "cell_type": "code",
   "execution_count": 108,
   "id": "af387988-f516-4485-a4d1-b171d1090a3c",
   "metadata": {},
   "outputs": [],
   "source": [
    "null_col = test_x.columns[test_x.isnull().any()]\n",
    "test_x = test_x.drop(null_col, axis = 1)\n",
    "train_data = train_data.drop(null_col, axis = 1)"
   ]
  },
  {
   "cell_type": "code",
   "execution_count": 109,
   "id": "ed45ac7a-7132-4139-bdc9-05c703ae9045",
   "metadata": {},
   "outputs": [],
   "source": [
    "train_x = train_data.iloc[:, :-1]\n",
    "train_y = train_data[\"SalePrice\"]"
   ]
  },
  {
   "cell_type": "code",
   "execution_count": 110,
   "id": "2fad713d-2379-48c3-86ba-2083000bfab0",
   "metadata": {},
   "outputs": [],
   "source": [
    "train_x_numeric = train_x.select_dtypes(include=['int64', 'float64'])\n",
    "train_x_categorical = train_x.select_dtypes(include=['object'])"
   ]
  },
  {
   "cell_type": "code",
   "execution_count": 111,
   "id": "9be1a072-4379-4e72-b7b2-1a08f760c066",
   "metadata": {},
   "outputs": [],
   "source": [
    "train_x_numeric = train_x_numeric.dropna(axis = 1)"
   ]
  },
  {
   "cell_type": "code",
   "execution_count": 112,
   "id": "c3b41357-bebe-426a-9de6-0052905557fe",
   "metadata": {},
   "outputs": [
    {
     "name": "stdout",
     "output_type": "stream",
     "text": [
      "['OverallQual', 0.625651892462126]\n",
      "['GrLivArea', 0.502148650271803]\n",
      "['1stFlrSF', 0.3670568696959659]\n",
      "['FullBath', 0.3143438548592399]\n",
      "['TotRmsAbvGrd', 0.2848604068044375]\n",
      "['YearBuilt', 0.2734216207324904]\n",
      "['YearRemodAdd', 0.25715139084530136]\n",
      "['Fireplaces', 0.2180225385901365]\n",
      "['WoodDeckSF', 0.10524408301655817]\n",
      "['2ndFlrSF', 0.10197407763119197]\n",
      "['OpenPorchSF', 0.09976515620798856]\n",
      "['HalfBath', 0.08071717133187055]\n",
      "['LotArea', 0.06961331538211156]\n",
      "['BedroomAbvGr', 0.0282956652798042]\n",
      "['KitchenAbvGr', 0.018470813449223335]\n",
      "['EnclosedPorch', 0.016532291264409225]\n",
      "['ScreenPorch', 0.012420338219512135]\n",
      "['PoolArea', 0.008538415958697119]\n",
      "['MSSubClass', 0.007103815434038222]\n",
      "['OverallCond', 0.006061540238119059]\n",
      "['MoSold', 0.00215595339652489]\n",
      "['3SsnPorch', 0.001987703214770043]\n",
      "['YrSold', 0.0008365159328424604]\n",
      "['LowQualFinSF', 0.0006556738936116987]\n",
      "['Id', 0.00048034259116207077]\n",
      "['MiscVal', 0.0004489982853327445]\n"
     ]
    }
   ],
   "source": [
    "r_vals = []\n",
    "for col in train_x_numeric.columns:\n",
    "    r_vals.append([col, stats.pearsonr(train_x_numeric[col], train_y)[0]**2])\n",
    "r_vals = sorted(r_vals, key = lambda x:-x[1])\n",
    "for x in r_vals:\n",
    "    print(x)"
   ]
  },
  {
   "cell_type": "code",
   "execution_count": 146,
   "id": "83f751ed-e838-454c-8f0f-00179ddfedb3",
   "metadata": {},
   "outputs": [],
   "source": [
    "features = [r_vals[i][0] for i in range(7)]"
   ]
  },
  {
   "cell_type": "code",
   "execution_count": 147,
   "id": "ead2eaa1-1bd7-4bdc-9329-7b0ec2bbd6f0",
   "metadata": {},
   "outputs": [
    {
     "data": {
      "text/plain": [
       "(139243952.94706967, 0.9779215759236747)"
      ]
     },
     "execution_count": 147,
     "metadata": {},
     "output_type": "execute_result"
    }
   ],
   "source": [
    "#model = LinearRegression()\n",
    "model = RandomForestRegressor(n_estimators = 1000)\n",
    "model.fit(np.array(train_x[features]), np.array(train_y))\n",
    "eval(model, np.array(train_x[features]), np.array(train_y))"
   ]
  },
  {
   "cell_type": "code",
   "execution_count": null,
   "id": "ed9b36b5-86e6-4587-9e80-8895bcab38f7",
   "metadata": {},
   "outputs": [],
   "source": []
  },
  {
   "cell_type": "code",
   "execution_count": 148,
   "id": "87703508-4682-44a1-8cd2-270b449ff615",
   "metadata": {},
   "outputs": [],
   "source": [
    "test_y = model.predict(np.array(test_x[features]))"
   ]
  },
  {
   "cell_type": "code",
   "execution_count": 149,
   "id": "bd313855-ae17-41bb-bd55-ac02ad8d512c",
   "metadata": {},
   "outputs": [],
   "source": [
    "out_df = test_x[['Id']].copy()\n",
    "out_df['SalePrice'] = np.array(test_y)"
   ]
  },
  {
   "cell_type": "code",
   "execution_count": 150,
   "id": "41e354c6-8f01-4257-9535-94e24d77a1a5",
   "metadata": {},
   "outputs": [],
   "source": [
    "#outfile = open('./output.csv', 'w')\n",
    "out_df.to_csv('output.csv', index=False)"
   ]
  },
  {
   "cell_type": "code",
   "execution_count": 151,
   "id": "82f433b0-93b9-4beb-812c-cef58c706be3",
   "metadata": {},
   "outputs": [],
   "source": [
    "def eval(model, train_x, train_y):\n",
    "    pred = model.predict(train_x)\n",
    "    mse = 1/len(train_y) * (sum((pred - train_y)**2))\n",
    "    tot_var = np.var(train_y)\n",
    "    return mse, 1 - mse/tot_var"
   ]
  },
  {
   "cell_type": "code",
   "execution_count": null,
   "id": "ee7cf287-6728-4105-84e2-f9e2a7f41df6",
   "metadata": {},
   "outputs": [],
   "source": []
  },
  {
   "cell_type": "code",
   "execution_count": null,
   "id": "af5b20f4-bada-4211-9a5a-d2b15ab97206",
   "metadata": {},
   "outputs": [],
   "source": [
    "fig, (ax1, ax2) = plt.subplots(1,2)\n",
    "ax1.hist(train_x[\"YearBuilt\"])\n",
    "ax2.hist(test_x[\"YearBuilt\"]))"
   ]
  }
 ],
 "metadata": {
  "kernelspec": {
   "display_name": "Python 3 (ipykernel)",
   "language": "python",
   "name": "python3"
  },
  "language_info": {
   "codemirror_mode": {
    "name": "ipython",
    "version": 3
   },
   "file_extension": ".py",
   "mimetype": "text/x-python",
   "name": "python",
   "nbconvert_exporter": "python",
   "pygments_lexer": "ipython3",
   "version": "3.11.5"
  }
 },
 "nbformat": 4,
 "nbformat_minor": 5
}
